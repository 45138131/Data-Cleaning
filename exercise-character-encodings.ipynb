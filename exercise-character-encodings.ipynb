{
 "cells": [
  {
   "cell_type": "markdown",
   "id": "95af9220",
   "metadata": {
    "papermill": {
     "duration": 0.006156,
     "end_time": "2022-08-28T13:45:55.048420",
     "exception": false,
     "start_time": "2022-08-28T13:45:55.042264",
     "status": "completed"
    },
    "tags": []
   },
   "source": [
    "**This notebook is an exercise in the [Data Cleaning](https://www.kaggle.com/learn/data-cleaning) course.  You can reference the tutorial at [this link](https://www.kaggle.com/alexisbcook/character-encodings).**\n",
    "\n",
    "---\n"
   ]
  },
  {
   "cell_type": "markdown",
   "id": "e2428aec",
   "metadata": {
    "papermill": {
     "duration": 0.004374,
     "end_time": "2022-08-28T13:45:55.057733",
     "exception": false,
     "start_time": "2022-08-28T13:45:55.053359",
     "status": "completed"
    },
    "tags": []
   },
   "source": [
    "In this exercise, you'll apply what you learned in the **Character encodings** tutorial.\n",
    "\n",
    "# Setup\n",
    "\n",
    "The questions below will give you feedback on your work. Run the following cell to set up the feedback system."
   ]
  },
  {
   "cell_type": "code",
   "execution_count": 1,
   "id": "319d7e76",
   "metadata": {
    "execution": {
     "iopub.execute_input": "2022-08-28T13:45:55.068656Z",
     "iopub.status.busy": "2022-08-28T13:45:55.068183Z",
     "iopub.status.idle": "2022-08-28T13:45:55.155929Z",
     "shell.execute_reply": "2022-08-28T13:45:55.154595Z"
    },
    "papermill": {
     "duration": 0.096495,
     "end_time": "2022-08-28T13:45:55.158823",
     "exception": false,
     "start_time": "2022-08-28T13:45:55.062328",
     "status": "completed"
    },
    "tags": []
   },
   "outputs": [
    {
     "name": "stdout",
     "output_type": "stream",
     "text": [
      "Setup Complete\n"
     ]
    }
   ],
   "source": [
    "from learntools.core import binder\n",
    "binder.bind(globals())\n",
    "from learntools.data_cleaning.ex4 import *\n",
    "print(\"Setup Complete\")"
   ]
  },
  {
   "cell_type": "markdown",
   "id": "d94001df",
   "metadata": {
    "papermill": {
     "duration": 0.00433,
     "end_time": "2022-08-28T13:45:55.167919",
     "exception": false,
     "start_time": "2022-08-28T13:45:55.163589",
     "status": "completed"
    },
    "tags": []
   },
   "source": [
    "# Get our environment set up\n",
    "\n",
    "The first thing we'll need to do is load in the libraries we'll be using."
   ]
  },
  {
   "cell_type": "code",
   "execution_count": 2,
   "id": "a7d478dc",
   "metadata": {
    "execution": {
     "iopub.execute_input": "2022-08-28T13:45:55.179179Z",
     "iopub.status.busy": "2022-08-28T13:45:55.178200Z",
     "iopub.status.idle": "2022-08-28T13:45:55.183110Z",
     "shell.execute_reply": "2022-08-28T13:45:55.182314Z"
    },
    "papermill": {
     "duration": 0.012811,
     "end_time": "2022-08-28T13:45:55.185272",
     "exception": false,
     "start_time": "2022-08-28T13:45:55.172461",
     "status": "completed"
    },
    "tags": []
   },
   "outputs": [],
   "source": [
    "# modules we'll use\n",
    "import pandas as pd\n",
    "import numpy as np\n",
    "\n",
    "# helpful character encoding module\n",
    "import chardet\n",
    "\n",
    "# set seed for reproducibility\n",
    "np.random.seed(0)"
   ]
  },
  {
   "cell_type": "markdown",
   "id": "6a267236",
   "metadata": {
    "papermill": {
     "duration": 0.004361,
     "end_time": "2022-08-28T13:45:55.194378",
     "exception": false,
     "start_time": "2022-08-28T13:45:55.190017",
     "status": "completed"
    },
    "tags": []
   },
   "source": [
    "# 1) What are encodings?\n",
    "\n",
    "You're working with a dataset composed of bytes.  Run the code cell below to print a sample entry."
   ]
  },
  {
   "cell_type": "code",
   "execution_count": 3,
   "id": "5f1a3d4b",
   "metadata": {
    "execution": {
     "iopub.execute_input": "2022-08-28T13:45:55.205725Z",
     "iopub.status.busy": "2022-08-28T13:45:55.205030Z",
     "iopub.status.idle": "2022-08-28T13:45:55.210713Z",
     "shell.execute_reply": "2022-08-28T13:45:55.209454Z"
    },
    "papermill": {
     "duration": 0.013765,
     "end_time": "2022-08-28T13:45:55.212780",
     "exception": false,
     "start_time": "2022-08-28T13:45:55.199015",
     "status": "completed"
    },
    "tags": []
   },
   "outputs": [
    {
     "name": "stdout",
     "output_type": "stream",
     "text": [
      "b'\\xa7A\\xa6n'\n",
      "data type: <class 'bytes'>\n"
     ]
    }
   ],
   "source": [
    "sample_entry = b'\\xa7A\\xa6n'\n",
    "print(sample_entry)\n",
    "print('data type:', type(sample_entry))"
   ]
  },
  {
   "cell_type": "markdown",
   "id": "73943c09",
   "metadata": {
    "papermill": {
     "duration": 0.004546,
     "end_time": "2022-08-28T13:45:55.222058",
     "exception": false,
     "start_time": "2022-08-28T13:45:55.217512",
     "status": "completed"
    },
    "tags": []
   },
   "source": [
    "You notice that it doesn't use the standard UTF-8 encoding. \n",
    "\n",
    "Use the next code cell to create a variable `new_entry` that changes the encoding from `\"big5-tw\"` to `\"utf-8\"`.  `new_entry` should have the bytes datatype."
   ]
  },
  {
   "cell_type": "code",
   "execution_count": 4,
   "id": "d8af2ad2",
   "metadata": {
    "execution": {
     "iopub.execute_input": "2022-08-28T13:45:55.233743Z",
     "iopub.status.busy": "2022-08-28T13:45:55.233024Z",
     "iopub.status.idle": "2022-08-28T13:45:55.243275Z",
     "shell.execute_reply": "2022-08-28T13:45:55.242498Z"
    },
    "papermill": {
     "duration": 0.018667,
     "end_time": "2022-08-28T13:45:55.245460",
     "exception": false,
     "start_time": "2022-08-28T13:45:55.226793",
     "status": "completed"
    },
    "tags": []
   },
   "outputs": [
    {
     "data": {
      "application/javascript": [
       "parent.postMessage({\"jupyterEvent\": \"custom.exercise_interaction\", \"data\": {\"outcomeType\": 1, \"valueTowardsCompletion\": 0.3333333333333333, \"interactionType\": 1, \"questionType\": 1, \"questionId\": \"1_EncodingsIntro\", \"learnToolsVersion\": \"0.3.4\", \"failureMessage\": \"\", \"exceptionClass\": \"\", \"trace\": \"\"}}, \"*\")"
      ],
      "text/plain": [
       "<IPython.core.display.Javascript object>"
      ]
     },
     "metadata": {},
     "output_type": "display_data"
    },
    {
     "data": {
      "text/markdown": [
       "<span style=\"color:#33cc33\">Correct</span>"
      ],
      "text/plain": [
       "Correct"
      ]
     },
     "metadata": {},
     "output_type": "display_data"
    }
   ],
   "source": [
    "before = sample_entry.decode(\"big5_tw\")\n",
    "new_entry = before.encode()\n",
    "\n",
    "\n",
    "# Check your answer\n",
    "q1.check()"
   ]
  },
  {
   "cell_type": "code",
   "execution_count": 5,
   "id": "d4fc3e2f",
   "metadata": {
    "execution": {
     "iopub.execute_input": "2022-08-28T13:45:55.257913Z",
     "iopub.status.busy": "2022-08-28T13:45:55.257255Z",
     "iopub.status.idle": "2022-08-28T13:45:55.267347Z",
     "shell.execute_reply": "2022-08-28T13:45:55.266603Z"
    },
    "papermill": {
     "duration": 0.018805,
     "end_time": "2022-08-28T13:45:55.269543",
     "exception": false,
     "start_time": "2022-08-28T13:45:55.250738",
     "status": "completed"
    },
    "tags": []
   },
   "outputs": [
    {
     "data": {
      "application/javascript": [
       "parent.postMessage({\"jupyterEvent\": \"custom.exercise_interaction\", \"data\": {\"interactionType\": 2, \"questionType\": 1, \"questionId\": \"1_EncodingsIntro\", \"learnToolsVersion\": \"0.3.4\", \"valueTowardsCompletion\": 0.0, \"failureMessage\": \"\", \"exceptionClass\": \"\", \"trace\": \"\", \"outcomeType\": 4}}, \"*\")"
      ],
      "text/plain": [
       "<IPython.core.display.Javascript object>"
      ]
     },
     "metadata": {},
     "output_type": "display_data"
    },
    {
     "data": {
      "text/markdown": [
       "<span style=\"color:#3366cc\">Hint:</span> Try using `.decode()` to get the string, then `.encode()` to get the bytes representation, encoded in UTF-8."
      ],
      "text/plain": [
       "Hint: Try using `.decode()` to get the string, then `.encode()` to get the bytes representation, encoded in UTF-8."
      ]
     },
     "metadata": {},
     "output_type": "display_data"
    },
    {
     "data": {
      "application/javascript": [
       "parent.postMessage({\"jupyterEvent\": \"custom.exercise_interaction\", \"data\": {\"interactionType\": 3, \"questionType\": 1, \"questionId\": \"1_EncodingsIntro\", \"learnToolsVersion\": \"0.3.4\", \"valueTowardsCompletion\": 0.0, \"failureMessage\": \"\", \"exceptionClass\": \"\", \"trace\": \"\", \"outcomeType\": 4}}, \"*\")"
      ],
      "text/plain": [
       "<IPython.core.display.Javascript object>"
      ]
     },
     "metadata": {},
     "output_type": "display_data"
    },
    {
     "data": {
      "text/markdown": [
       "<span style=\"color:#33cc99\">Solution:</span> \n",
       "```python\n",
       "before = sample_entry.decode(\"big5-tw\")\n",
       "new_entry = before.encode()\n",
       "\n",
       "```"
      ],
      "text/plain": [
       "Solution: \n",
       "```python\n",
       "before = sample_entry.decode(\"big5-tw\")\n",
       "new_entry = before.encode()\n",
       "\n",
       "```"
      ]
     },
     "metadata": {},
     "output_type": "display_data"
    }
   ],
   "source": [
    "# Lines below will give you a hint or solution code\n",
    "q1.hint()\n",
    "q1.solution()"
   ]
  },
  {
   "cell_type": "markdown",
   "id": "db0ae8bf",
   "metadata": {
    "papermill": {
     "duration": 0.005273,
     "end_time": "2022-08-28T13:45:55.280646",
     "exception": false,
     "start_time": "2022-08-28T13:45:55.275373",
     "status": "completed"
    },
    "tags": []
   },
   "source": [
    "# 2) Reading in files with encoding problems\n",
    "\n",
    "Use the code cell below to read in this file at path `\"../input/fatal-police-shootings-in-the-us/PoliceKillingsUS.csv\"`.  \n",
    "\n",
    "Figure out what the correct encoding should be and read in the file to a DataFrame `police_killings`."
   ]
  },
  {
   "cell_type": "code",
   "execution_count": 6,
   "id": "9e48f2e9",
   "metadata": {
    "execution": {
     "iopub.execute_input": "2022-08-28T13:45:55.293703Z",
     "iopub.status.busy": "2022-08-28T13:45:55.292984Z",
     "iopub.status.idle": "2022-08-28T13:45:55.310419Z",
     "shell.execute_reply": "2022-08-28T13:45:55.309560Z"
    },
    "papermill": {
     "duration": 0.026841,
     "end_time": "2022-08-28T13:45:55.312920",
     "exception": false,
     "start_time": "2022-08-28T13:45:55.286079",
     "status": "completed"
    },
    "tags": []
   },
   "outputs": [],
   "source": [
    "# TODO: Load in the DataFrame correctly.\n",
    "#police_killings = pd.read_csv(\"../input/fatal-police-shootings-in-the-us/PoliceKillingsUs.csv\",encoding='Windows-1252')\n",
    "police_killings = pd.read_csv(\"../input/fatal-police-shootings-in-the-us/PoliceKillingsUS.csv\", encoding='Windows-1252')\n",
    "# Check your answer\n",
    "#q2.check()"
   ]
  },
  {
   "cell_type": "markdown",
   "id": "9ff9947f",
   "metadata": {
    "papermill": {
     "duration": 0.005165,
     "end_time": "2022-08-28T13:45:55.323771",
     "exception": false,
     "start_time": "2022-08-28T13:45:55.318606",
     "status": "completed"
    },
    "tags": []
   },
   "source": [
    "Feel free to use any additional code cells for supplemental work.  To get credit for finishing this question, you'll need to run `q2.check()` and get a result of **Correct**."
   ]
  },
  {
   "cell_type": "code",
   "execution_count": 7,
   "id": "39b7c533",
   "metadata": {
    "execution": {
     "iopub.execute_input": "2022-08-28T13:45:55.337027Z",
     "iopub.status.busy": "2022-08-28T13:45:55.336280Z",
     "iopub.status.idle": "2022-08-28T13:45:55.340352Z",
     "shell.execute_reply": "2022-08-28T13:45:55.339602Z"
    },
    "papermill": {
     "duration": 0.013247,
     "end_time": "2022-08-28T13:45:55.342438",
     "exception": false,
     "start_time": "2022-08-28T13:45:55.329191",
     "status": "completed"
    },
    "tags": []
   },
   "outputs": [],
   "source": [
    "# (Optional) Use this code cell for any additional work.\n"
   ]
  },
  {
   "cell_type": "code",
   "execution_count": 8,
   "id": "e4e6b997",
   "metadata": {
    "execution": {
     "iopub.execute_input": "2022-08-28T13:45:55.354967Z",
     "iopub.status.busy": "2022-08-28T13:45:55.354533Z",
     "iopub.status.idle": "2022-08-28T13:45:55.365369Z",
     "shell.execute_reply": "2022-08-28T13:45:55.364600Z"
    },
    "papermill": {
     "duration": 0.019324,
     "end_time": "2022-08-28T13:45:55.367338",
     "exception": false,
     "start_time": "2022-08-28T13:45:55.348014",
     "status": "completed"
    },
    "tags": []
   },
   "outputs": [
    {
     "data": {
      "application/javascript": [
       "parent.postMessage({\"jupyterEvent\": \"custom.exercise_interaction\", \"data\": {\"interactionType\": 2, \"questionType\": 1, \"questionId\": \"2_ReadIn\", \"learnToolsVersion\": \"0.3.4\", \"valueTowardsCompletion\": 0.0, \"failureMessage\": \"\", \"exceptionClass\": \"\", \"trace\": \"\", \"outcomeType\": 4}}, \"*\")"
      ],
      "text/plain": [
       "<IPython.core.display.Javascript object>"
      ]
     },
     "metadata": {},
     "output_type": "display_data"
    },
    {
     "data": {
      "text/markdown": [
       "<span style=\"color:#3366cc\">Hint:</span> If you try to guess the encoding with the first 10,000 bytes of the file, it might give you the wrong answer.  Try using 100,000 or more lines of the file."
      ],
      "text/plain": [
       "Hint: If you try to guess the encoding with the first 10,000 bytes of the file, it might give you the wrong answer.  Try using 100,000 or more lines of the file."
      ]
     },
     "metadata": {},
     "output_type": "display_data"
    },
    {
     "data": {
      "application/javascript": [
       "parent.postMessage({\"jupyterEvent\": \"custom.exercise_interaction\", \"data\": {\"interactionType\": 3, \"questionType\": 1, \"questionId\": \"2_ReadIn\", \"learnToolsVersion\": \"0.3.4\", \"valueTowardsCompletion\": 0.0, \"failureMessage\": \"\", \"exceptionClass\": \"\", \"trace\": \"\", \"outcomeType\": 4}}, \"*\")"
      ],
      "text/plain": [
       "<IPython.core.display.Javascript object>"
      ]
     },
     "metadata": {},
     "output_type": "display_data"
    },
    {
     "data": {
      "text/markdown": [
       "<span style=\"color:#33cc99\">Solution:</span> \n",
       "```python\n",
       "police_killings = pd.read_csv(\"../input/fatal-police-shootings-in-the-us/PoliceKillingsUS.csv\", encoding='Windows-1252')\n",
       "\n",
       "```"
      ],
      "text/plain": [
       "Solution: \n",
       "```python\n",
       "police_killings = pd.read_csv(\"../input/fatal-police-shootings-in-the-us/PoliceKillingsUS.csv\", encoding='Windows-1252')\n",
       "\n",
       "```"
      ]
     },
     "metadata": {},
     "output_type": "display_data"
    }
   ],
   "source": [
    "# Lines below will give you a hint or solution code\n",
    "q2.hint()\n",
    "\n",
    "q2.solution()"
   ]
  },
  {
   "cell_type": "markdown",
   "id": "3db04d1e",
   "metadata": {
    "papermill": {
     "duration": 0.005574,
     "end_time": "2022-08-28T13:45:55.378714",
     "exception": false,
     "start_time": "2022-08-28T13:45:55.373140",
     "status": "completed"
    },
    "tags": []
   },
   "source": [
    "# 3) Saving your files with UTF-8 encoding\n",
    "\n",
    "Save a version of the police killings dataset to CSV with UTF-8 encoding.  Your answer will be marked correct after saving this file.  \n",
    "\n",
    "Note: When using the `to_csv()` method, supply only the name of the file (e.g., `\"my_file.csv\"`).  This saves the file at the filepath `\"/kaggle/working/my_file.csv\"`."
   ]
  },
  {
   "cell_type": "code",
   "execution_count": 9,
   "id": "073ef961",
   "metadata": {
    "execution": {
     "iopub.execute_input": "2022-08-28T13:45:55.392777Z",
     "iopub.status.busy": "2022-08-28T13:45:55.392385Z",
     "iopub.status.idle": "2022-08-28T13:45:55.427619Z",
     "shell.execute_reply": "2022-08-28T13:45:55.426843Z"
    },
    "papermill": {
     "duration": 0.045432,
     "end_time": "2022-08-28T13:45:55.429828",
     "exception": false,
     "start_time": "2022-08-28T13:45:55.384396",
     "status": "completed"
    },
    "tags": []
   },
   "outputs": [
    {
     "data": {
      "application/javascript": [
       "parent.postMessage({\"jupyterEvent\": \"custom.exercise_interaction\", \"data\": {\"outcomeType\": 1, \"valueTowardsCompletion\": 0.3333333333333333, \"interactionType\": 1, \"questionType\": 2, \"questionId\": \"3_SaveCSV\", \"learnToolsVersion\": \"0.3.4\", \"failureMessage\": \"\", \"exceptionClass\": \"\", \"trace\": \"\"}}, \"*\")"
      ],
      "text/plain": [
       "<IPython.core.display.Javascript object>"
      ]
     },
     "metadata": {},
     "output_type": "display_data"
    },
    {
     "data": {
      "text/markdown": [
       "<span style=\"color:#33cc33\">Correct</span>"
      ],
      "text/plain": [
       "Correct"
      ]
     },
     "metadata": {},
     "output_type": "display_data"
    }
   ],
   "source": [
    "# TODO: Save the police killings dataset to CSV\n",
    "police_killings.to_csv(\"my_file.csv\")\n",
    "\n",
    "# Check your answer\n",
    "q3.check()"
   ]
  },
  {
   "cell_type": "code",
   "execution_count": 10,
   "id": "caa37d79",
   "metadata": {
    "execution": {
     "iopub.execute_input": "2022-08-28T13:45:55.444671Z",
     "iopub.status.busy": "2022-08-28T13:45:55.443981Z",
     "iopub.status.idle": "2022-08-28T13:45:55.450941Z",
     "shell.execute_reply": "2022-08-28T13:45:55.450192Z"
    },
    "papermill": {
     "duration": 0.016971,
     "end_time": "2022-08-28T13:45:55.453014",
     "exception": false,
     "start_time": "2022-08-28T13:45:55.436043",
     "status": "completed"
    },
    "tags": []
   },
   "outputs": [
    {
     "data": {
      "application/javascript": [
       "parent.postMessage({\"jupyterEvent\": \"custom.exercise_interaction\", \"data\": {\"interactionType\": 3, \"questionType\": 2, \"questionId\": \"3_SaveCSV\", \"learnToolsVersion\": \"0.3.4\", \"valueTowardsCompletion\": 0.0, \"failureMessage\": \"\", \"exceptionClass\": \"\", \"trace\": \"\", \"outcomeType\": 4}}, \"*\")"
      ],
      "text/plain": [
       "<IPython.core.display.Javascript object>"
      ]
     },
     "metadata": {},
     "output_type": "display_data"
    },
    {
     "data": {
      "text/markdown": [
       "<span style=\"color:#33cc99\">Solution:</span> \n",
       "```python\n",
       "\n",
       "police_killings.to_csv(\"my_file.csv\")\n",
       "\n",
       "```"
      ],
      "text/plain": [
       "Solution: \n",
       "```python\n",
       "\n",
       "police_killings.to_csv(\"my_file.csv\")\n",
       "\n",
       "```"
      ]
     },
     "metadata": {},
     "output_type": "display_data"
    }
   ],
   "source": [
    "# Lines below will give you a hint or solution code\n",
    "#q3.hint()\n",
    "q3.solution()"
   ]
  },
  {
   "cell_type": "markdown",
   "id": "709970eb",
   "metadata": {
    "papermill": {
     "duration": 0.006146,
     "end_time": "2022-08-28T13:45:55.465887",
     "exception": false,
     "start_time": "2022-08-28T13:45:55.459741",
     "status": "completed"
    },
    "tags": []
   },
   "source": [
    "# (Optional) More practice\n",
    "\n",
    "Check out [this dataset of files in different character encodings](https://www.kaggle.com/rtatman/character-encoding-examples). Can you read in all the files with their original encodings and them save them out as UTF-8 files?\n",
    "\n",
    "If you have a file that's in UTF-8 but has just a couple of weird-looking characters in it, you can try out the [ftfy module](https://ftfy.readthedocs.io/en/latest/#) and see if it helps. \n",
    "\n",
    "# Keep going\n",
    "\n",
    "In the final lesson, learn how to [**clean up inconsistent text entries**](https://www.kaggle.com/alexisbcook/inconsistent-data-entry) in your dataset."
   ]
  },
  {
   "cell_type": "markdown",
   "id": "158b8962",
   "metadata": {
    "papermill": {
     "duration": 0.006028,
     "end_time": "2022-08-28T13:45:55.478315",
     "exception": false,
     "start_time": "2022-08-28T13:45:55.472287",
     "status": "completed"
    },
    "tags": []
   },
   "source": [
    "---\n",
    "\n",
    "\n",
    "\n",
    "\n",
    "*Have questions or comments? Visit the [course discussion forum](https://www.kaggle.com/learn/data-cleaning/discussion) to chat with other learners.*"
   ]
  }
 ],
 "metadata": {
  "kernelspec": {
   "display_name": "Python 3",
   "language": "python",
   "name": "python3"
  },
  "language_info": {
   "codemirror_mode": {
    "name": "ipython",
    "version": 3
   },
   "file_extension": ".py",
   "mimetype": "text/x-python",
   "name": "python",
   "nbconvert_exporter": "python",
   "pygments_lexer": "ipython3",
   "version": "3.7.12"
  },
  "papermill": {
   "default_parameters": {},
   "duration": 11.086685,
   "end_time": "2022-08-28T13:45:56.105612",
   "environment_variables": {},
   "exception": null,
   "input_path": "__notebook__.ipynb",
   "output_path": "__notebook__.ipynb",
   "parameters": {},
   "start_time": "2022-08-28T13:45:45.018927",
   "version": "2.3.4"
  }
 },
 "nbformat": 4,
 "nbformat_minor": 5
}
